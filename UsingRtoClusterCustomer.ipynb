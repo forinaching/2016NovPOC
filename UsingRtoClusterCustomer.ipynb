{
 "cells": [
  {
   "cell_type": "code",
   "execution_count": 1,
   "metadata": {
    "collapsed": true
   },
   "outputs": [],
   "source": [
    "import readline"
   ]
  },
  {
   "cell_type": "code",
   "execution_count": 2,
   "metadata": {
    "collapsed": false
   },
   "outputs": [],
   "source": [
    "execfile('/u01/bdd/v1.3.2/BDD-1.3.2.35.1091/bdd-shell/ipython/00-bdd-shell-init.py')"
   ]
  },
  {
   "cell_type": "code",
   "execution_count": 3,
   "metadata": {
    "collapsed": false
   },
   "outputs": [],
   "source": [
    "%load_ext rpy2.ipython"
   ]
  },
  {
   "cell_type": "code",
   "execution_count": 4,
   "metadata": {
    "collapsed": false
   },
   "outputs": [
    {
     "name": "stdout",
     "output_type": "stream",
     "text": [
      "Name: media_demo_customer\tKey:default_edp_89c616b6-aa10-4827-aa82-1e9c3fcc419e\n",
      "Name: media_demo_customer\tKey:edp_cli_edp_2c7f41ee-65bf-43ac-8bb4-5b6b59a55d75\n",
      "Name: media_demo_customer\tKey:default_edp_c78bef3e-5e71-4ef9-8760-5b23d4a02848\n",
      "Name: media_demo_movielog\tKey:default_edp_f343a63a-4cc3-449c-a0a0-d4b50c3d0849\n",
      "Name: arima_zhk_40gp_mtrtn_1\tKey:edp_cli_edp_6748d213-4139-415d-9939-16ed90c2faaa\n",
      "Name: arima_zhk_40gp_mtrtn\tKey:edp_cli_edp_f5b84e48-6253-43dd-845c-e57f9fc9b075\n",
      "Name: arima_zhk_40gp_mtrtn_1\tKey:default_edp_9a99541a-9173-457a-879c-170477e0bc96\n",
      "Name: movie_genre_2\tKey:default_edp_d17f911d-eea0-4788-af6f-615f483bc978\n",
      "Name: MT_RLS_RTN\tKey:default_edp_db966636-a062-4ed5-8595-7d53cc448d50\n",
      "Name: movie_genre\tKey:default_edp_7d4c18a5-6f02-4067-9f63-91f950078b1e\n",
      "Name: MT_RLS_RTN\tKey:default_edp_5beef038-dafc-4adf-abb9-c86188fef66e\n",
      "Name: POR-FND-LT v3b\tKey:default_edp_c96c2689-acc5-4757-8d16-0b7129a13b90\n",
      "Name: media_3rdparty_activity\tKey:default_edp_ae82f0cb-5a27-42c5-a423-c726f0f256c9\n",
      "Name: Required_opzone\tKey:default_edp_25e5118a-e631-4422-8249-666fe77858e4\n",
      "Name: media_demo_movielog\tKey:edp_cli_edp_1c5465a1-75bd-4f49-9e10-c552e2c0ff65\n",
      "Name: CustomerOnlyByYear\tKey:default_edp_5efd9422-e38b-4623-af0f-bd5913fd8dbf\n"
     ]
    }
   ],
   "source": [
    "dss = bc.datasets()\n",
    "for ds in dss:\n",
    "    print('Name: %s\\tKey:%s'%(ds.properties()['displayName'], ds.properties()['databaseKey'] ))"
   ]
  },
  {
   "cell_type": "code",
   "execution_count": 5,
   "metadata": {
    "collapsed": true
   },
   "outputs": [],
   "source": [
    "ds = dss.dataset('default_edp_5efd9422-e38b-4623-af0f-bd5913fd8dbf')"
   ]
  },
  {
   "cell_type": "code",
   "execution_count": 6,
   "metadata": {
    "collapsed": false
   },
   "outputs": [
    {
     "name": "stdout",
     "output_type": "stream",
     "text": [
      "root\n",
      " |-- total_teu: long (nullable = true)\n",
      " |-- total_teu_by_year: long (nullable = true)\n",
      " |-- PRIMARY_KEY: string (nullable = false)\n",
      " |-- frequency__: double (nullable = true)\n",
      " |-- cus_id: string (nullable = true)\n",
      " |-- frequency: long (nullable = true)\n",
      " |-- year: long (nullable = true)\n",
      " |-- total_teu__: double (nullable = true)\n",
      "\n"
     ]
    }
   ],
   "source": [
    "spark_df = ds.to_spark()\n",
    "spark_df.printSchema()"
   ]
  },
  {
   "cell_type": "code",
   "execution_count": 7,
   "metadata": {
    "collapsed": true
   },
   "outputs": [],
   "source": [
    "import pandas as pd\n",
    "pandas_df = spark_df.toPandas()"
   ]
  },
  {
   "cell_type": "code",
   "execution_count": 8,
   "metadata": {
    "collapsed": false
   },
   "outputs": [
    {
     "data": {
      "text/plain": [
       "   total_teu      total_teu_by_year   PRIMARY_KEY    frequency__     \n",
       " Min.   :   0.0   Min.   : 61168    0-0-0   :   1   Min.   :0.00000  \n",
       " 1st Qu.:   0.0   1st Qu.:154203    0-0-1   :   1   1st Qu.:0.00000  \n",
       " Median :   1.0   Median :185344    0-0-10  :   1   Median :0.01923  \n",
       " Mean   :  81.7   Mean   :158664    0-0-100 :   1   Mean   :0.15306  \n",
       " 3rd Qu.:  16.0   3rd Qu.:189804    0-0-1000:   1   3rd Qu.:0.15385  \n",
       " Max.   :9913.0   Max.   :202801    0-0-1001:   1   Max.   :1.00000  \n",
       "                                    (Other) :7762                    \n",
       "        cus_id       frequency           year       total_teu__       \n",
       " 3000272000:   4   Min.   : 0.000   Min.   :2013   Min.   :0.0000000  \n",
       " 3000790000:   4   1st Qu.: 0.000   1st Qu.:2014   1st Qu.:0.0000000  \n",
       " 3001236000:   4   Median : 1.000   Median :2014   Median :0.0000050  \n",
       " 3001520000:   4   Mean   : 6.569   Mean   :2014   Mean   :0.0005149  \n",
       " 3001774000:   4   3rd Qu.: 6.000   3rd Qu.:2015   3rd Qu.:0.0001080  \n",
       " 3001775001:   4   Max.   :52.000   Max.   :2016   Max.   :0.0606530  \n",
       " (Other)   :7744                                                      \n"
      ]
     },
     "metadata": {},
     "output_type": "display_data"
    }
   ],
   "source": [
    "%%R -i pandas_df\n",
    "\n",
    "R.df <- pandas_df\n",
    "\n",
    "summary(R.df)"
   ]
  },
  {
   "cell_type": "code",
   "execution_count": 9,
   "metadata": {
    "collapsed": false
   },
   "outputs": [
    {
     "name": "stderr",
     "output_type": "stream",
     "text": [
      "/u01/anaconda2/lib/python2.7/site-packages/rpy2-2.8.4-py2.7-linux-x86_64.egg/rpy2/rinterface/__init__.py:186: RRuntimeWarning: \n",
      "Attaching package: ‘dplyr’\n",
      "\n",
      "\n",
      "  warnings.warn(x, RRuntimeWarning)\n",
      "/u01/anaconda2/lib/python2.7/site-packages/rpy2-2.8.4-py2.7-linux-x86_64.egg/rpy2/rinterface/__init__.py:186: RRuntimeWarning: The following objects are masked from ‘package:stats’:\n",
      "\n",
      "    filter, lag\n",
      "\n",
      "\n",
      "  warnings.warn(x, RRuntimeWarning)\n",
      "/u01/anaconda2/lib/python2.7/site-packages/rpy2-2.8.4-py2.7-linux-x86_64.egg/rpy2/rinterface/__init__.py:186: RRuntimeWarning: The following objects are masked from ‘package:base’:\n",
      "\n",
      "    intersect, setdiff, setequal, union\n",
      "\n",
      "\n",
      "  warnings.warn(x, RRuntimeWarning)\n",
      "/u01/anaconda2/lib/python2.7/site-packages/rpy2-2.8.4-py2.7-linux-x86_64.egg/rpy2/rinterface/__init__.py:186: RRuntimeWarning: Use suppressPackageStartupMessages() to eliminate package startup\n",
      "messages.\n",
      "\n",
      "  warnings.warn(x, RRuntimeWarning)\n"
     ]
    }
   ],
   "source": [
    "%%R\n",
    "#install.packages(\"dplyr\")\n",
    "library(dplyr)\n",
    "library(cluster)\n",
    "library(ggplot2)\n",
    "library(corrplot)"
   ]
  },
  {
   "cell_type": "code",
   "execution_count": 10,
   "metadata": {
    "collapsed": true
   },
   "outputs": [],
   "source": [
    "%%R\n",
    "View(R.df)"
   ]
  },
  {
   "cell_type": "code",
   "execution_count": 11,
   "metadata": {
    "collapsed": false
   },
   "outputs": [
    {
     "data": {
      "text/plain": [
       "[1] 7768\n"
      ]
     },
     "metadata": {},
     "output_type": "display_data"
    }
   ],
   "source": [
    "%%R\n",
    "nrow(R.df)"
   ]
  },
  {
   "cell_type": "code",
   "execution_count": 12,
   "metadata": {
    "collapsed": false
   },
   "outputs": [
    {
     "data": {
      "text/plain": [
       "   total_teu      total_teu_by_year   PRIMARY_KEY    frequency__     \n",
       " Min.   :   0.0   Min.   : 61168    0-0-0   :   1   Min.   :0.00000  \n",
       " 1st Qu.:   0.0   1st Qu.:154203    0-0-1   :   1   1st Qu.:0.00000  \n",
       " Median :   1.0   Median :185344    0-0-10  :   1   Median :0.01923  \n",
       " Mean   :  81.7   Mean   :158664    0-0-100 :   1   Mean   :0.15306  \n",
       " 3rd Qu.:  16.0   3rd Qu.:189804    0-0-1000:   1   3rd Qu.:0.15385  \n",
       " Max.   :9913.0   Max.   :202801    0-0-1001:   1   Max.   :1.00000  \n",
       "                                    (Other) :7762                    \n",
       "        cus_id       frequency           year       total_teu__       \n",
       " 3000272000:   4   Min.   : 0.000   Min.   :2013   Min.   :0.0000000  \n",
       " 3000790000:   4   1st Qu.: 0.000   1st Qu.:2014   1st Qu.:0.0000000  \n",
       " 3001236000:   4   Median : 1.000   Median :2014   Median :0.0000050  \n",
       " 3001520000:   4   Mean   : 6.569   Mean   :2014   Mean   :0.0005149  \n",
       " 3001774000:   4   3rd Qu.: 6.000   3rd Qu.:2015   3rd Qu.:0.0001080  \n",
       " 3001775001:   4   Max.   :52.000   Max.   :2016   Max.   :0.0606530  \n",
       " (Other)   :7744                                                      \n"
      ]
     },
     "metadata": {},
     "output_type": "display_data"
    }
   ],
   "source": [
    "%%R\n",
    "summary(R.df)"
   ]
  },
  {
   "cell_type": "code",
   "execution_count": 13,
   "metadata": {
    "collapsed": false
   },
   "outputs": [
    {
     "data": {
      "image/png": "[encoded data removed]"
     },
     "metadata": {},
     "output_type": "display_data"
    }
   ],
   "source": [
    "%%R\n",
    "pairs(~frequency__+total_teu+year, data=R.df, main=\"Simple Scatterplot Matrix\")"
   ]
  },
  {
   "cell_type": "code",
   "execution_count": 14,
   "metadata": {
    "collapsed": false
   },
   "outputs": [
    {
     "data": {
      "image/png": "[encoded data removed]"
     },
     "metadata": {},
     "output_type": "display_data"
    }
   ],
   "source": [
    "%%R\n",
    "wssplot <- function(data, nc=15, seed=1234) {\n",
    "    wss <- (nrow(data)-1)*sum(apply(data,2,var))\n",
    "    for (i in 2:nc) {\n",
    "        set.seed(seed)\n",
    "        wss[i] <- sum(kmeans(data,centers=i)$withinss)\n",
    "    }\n",
    "    plot(1:nc, wss, type=\"b\", xlab=\"Number of Clusters\", ylab=\"Within groups sum of squares\")\n",
    "}\n",
    "\n",
    "colOperates_LG = c(\"frequency__\", \"total_teu\", \"year\")\n",
    "wssplot(R.df[,colOperates_LG], nc = 15)"
   ]
  },
  {
   "cell_type": "code",
   "execution_count": 15,
   "metadata": {
    "collapsed": false
   },
   "outputs": [
    {
     "data": {
      "text/plain": [
       "[1]   58 7125  421   20  138    6\n"
      ]
     },
     "metadata": {},
     "output_type": "display_data"
    }
   ],
   "source": [
    "%%R\n",
    "require(cluster)\n",
    "km <- function(data, colOperates, nc = 15){\n",
    "    kmDataSet <- data[,colOperates]\n",
    "    clusters <- kmeans(kmDataSet, centers = nc, iter.max = 100)\n",
    "    clusters\n",
    "}\n",
    "\n",
    "km.cluster <- km(R.df, colOperates_LG, 6)\n",
    "cluster <- factor(km.cluster$cluster)\n",
    "R.df <- cbind(cluster, R.df)\n",
    "View(R.df)\n",
    "centers <- as.data.frame(km.cluster$centers)\n",
    "km.cluster$size"
   ]
  },
  {
   "cell_type": "code",
   "execution_count": 16,
   "metadata": {
    "collapsed": false
   },
   "outputs": [],
   "source": [
    "%%R\n",
    "View(R.df)\n"
   ]
  },
  {
   "cell_type": "code",
   "execution_count": 17,
   "metadata": {
    "collapsed": false
   },
   "outputs": [
    {
     "data": {
      "image/png": "[encoded data removed]"
     },
     "metadata": {},
     "output_type": "display_data"
    }
   ],
   "source": [
    "%%R\n",
    "require(ggplot2)\n",
    "ggplot(data=R.df, aes(x=total_teu, y=frequency__, color=cluster)) +\n",
    "geom_point() + \n",
    "geom_point(data=centers, aes(x=total_teu, y=frequency__, color='Center')) + \n",
    "geom_point(data=centers, aes(x=total_teu, y=frequency__, color='Center'), size=24, alpha=0.3, show.legend=FALSE) "
   ]
  },
  {
   "cell_type": "code",
   "execution_count": 18,
   "metadata": {
    "collapsed": false
   },
   "outputs": [],
   "source": [
    "%%R -o R_output\n",
    "\n",
    "R_output <- \n",
    "    R.df "
   ]
  },
  {
   "cell_type": "code",
   "execution_count": 19,
   "metadata": {
    "collapsed": false
   },
   "outputs": [
    {
     "name": "stdout",
     "output_type": "stream",
     "text": [
      "<class 'pandas.core.frame.DataFrame'>\n",
      "Index: 7768 entries, 0 to 7767\n",
      "Data columns (total 9 columns):\n",
      "cluster              7768 non-null object\n",
      "total_teu            7768 non-null int32\n",
      "total_teu_by_year    7768 non-null int32\n",
      "PRIMARY_KEY          7768 non-null object\n",
      "frequency__          7768 non-null float64\n",
      "cus_id               7768 non-null object\n",
      "frequency            7768 non-null int32\n",
      "year                 7768 non-null int32\n",
      "total_teu__          7768 non-null float64\n",
      "dtypes: float64(2), int32(4), object(3)\n",
      "memory usage: 485.5+ KB\n"
     ]
    }
   ],
   "source": [
    "R_output.info()"
   ]
  },
  {
   "cell_type": "code",
   "execution_count": 20,
   "metadata": {
    "collapsed": false
   },
   "outputs": [
    {
     "data": {
      "text/html": [
       "<div>\n",
       "<table border=\"1\" class=\"dataframe\">\n",
       "  <thead>\n",
       "    <tr style=\"text-align: right;\">\n",
       "      <th></th>\n",
       "      <th>cluster</th>\n",
       "      <th>total_teu</th>\n",
       "      <th>total_teu_by_year</th>\n",
       "      <th>PRIMARY_KEY</th>\n",
       "      <th>frequency__</th>\n",
       "      <th>cus_id</th>\n",
       "      <th>frequency</th>\n",
       "      <th>year</th>\n",
       "      <th>total_teu__</th>\n",
       "    </tr>\n",
       "  </thead>\n",
       "  <tbody>\n",
       "    <tr>\n",
       "      <th>0</th>\n",
       "      <td>2</td>\n",
       "      <td>0</td>\n",
       "      <td>185472</td>\n",
       "      <td>0-0-0</td>\n",
       "      <td>0.000000</td>\n",
       "      <td>99999</td>\n",
       "      <td>0</td>\n",
       "      <td>2013</td>\n",
       "      <td>0.000000</td>\n",
       "    </tr>\n",
       "    <tr>\n",
       "      <th>1</th>\n",
       "      <td>2</td>\n",
       "      <td>0</td>\n",
       "      <td>185215</td>\n",
       "      <td>0-0-1</td>\n",
       "      <td>0.000000</td>\n",
       "      <td>99999</td>\n",
       "      <td>0</td>\n",
       "      <td>2014</td>\n",
       "      <td>0.000000</td>\n",
       "    </tr>\n",
       "    <tr>\n",
       "      <th>2</th>\n",
       "      <td>2</td>\n",
       "      <td>28</td>\n",
       "      <td>202801</td>\n",
       "      <td>0-0-2</td>\n",
       "      <td>0.019231</td>\n",
       "      <td>99999</td>\n",
       "      <td>1</td>\n",
       "      <td>2015</td>\n",
       "      <td>0.000138</td>\n",
       "    </tr>\n",
       "    <tr>\n",
       "      <th>3</th>\n",
       "      <td>2</td>\n",
       "      <td>76</td>\n",
       "      <td>61168</td>\n",
       "      <td>0-0-3</td>\n",
       "      <td>0.600000</td>\n",
       "      <td>99999</td>\n",
       "      <td>9</td>\n",
       "      <td>2016</td>\n",
       "      <td>0.001242</td>\n",
       "    </tr>\n",
       "    <tr>\n",
       "      <th>4</th>\n",
       "      <td>2</td>\n",
       "      <td>53</td>\n",
       "      <td>185472</td>\n",
       "      <td>0-0-4</td>\n",
       "      <td>0.250000</td>\n",
       "      <td>3000272000</td>\n",
       "      <td>13</td>\n",
       "      <td>2013</td>\n",
       "      <td>0.000286</td>\n",
       "    </tr>\n",
       "  </tbody>\n",
       "</table>\n",
       "</div>"
      ],
      "text/plain": [
       "  cluster  total_teu  total_teu_by_year PRIMARY_KEY  frequency__      cus_id  \\\n",
       "0       2          0             185472       0-0-0     0.000000       99999   \n",
       "1       2          0             185215       0-0-1     0.000000       99999   \n",
       "2       2         28             202801       0-0-2     0.019231       99999   \n",
       "3       2         76              61168       0-0-3     0.600000       99999   \n",
       "4       2         53             185472       0-0-4     0.250000  3000272000   \n",
       "\n",
       "   frequency  year  total_teu__  \n",
       "0          0  2013     0.000000  \n",
       "1          0  2014     0.000000  \n",
       "2          1  2015     0.000138  \n",
       "3          9  2016     0.001242  \n",
       "4         13  2013     0.000286  "
      ]
     },
     "execution_count": 20,
     "metadata": {},
     "output_type": "execute_result"
    }
   ],
   "source": [
    "R_output.head()"
   ]
  },
  {
   "cell_type": "code",
   "execution_count": null,
   "metadata": {
    "collapsed": false
   },
   "outputs": [
    {
     "name": "stdout",
     "output_type": "stream",
     "text": [
      "root\n",
      " |-- cluster: string (nullable = true)\n",
      " |-- total_teu: long (nullable = true)\n",
      " |-- total_teu_by_year: long (nullable = true)\n",
      " |-- PRIMARY_KEY: string (nullable = true)\n",
      " |-- frequency__: double (nullable = true)\n",
      " |-- cus_id: string (nullable = true)\n",
      " |-- frequency: long (nullable = true)\n",
      " |-- year: long (nullable = true)\n",
      " |-- total_teu__: double (nullable = true)\n",
      "\n"
     ]
    }
   ],
   "source": [
    "spark_df2 = sqlContext.createDataFrame(R_output)\n",
    "spark_df2.printSchema()"
   ]
  },
  {
   "cell_type": "code",
   "execution_count": null,
   "metadata": {
    "collapsed": true
   },
   "outputs": [],
   "source": [
    "spark_df2.write.mode('Overwrite').saveAsTable('default.CustomerOnlyByYearWithCluster')"
   ]
  },
  {
   "cell_type": "code",
   "execution_count": null,
   "metadata": {
    "collapsed": true
   },
   "outputs": [],
   "source": [
    "#Below remarked.  \n",
    "#Per Steven's sharing, there will be a schedule job to detect any new Hive table and then create a new dataset and ingest back into BDD.\n",
    "\n",
    "#from subprocess import call\n",
    "#call([\"/u01/bdd/v1.3.2/BDD-1.3.2.35.1091/dataprocessing/edp_cli/data_processing_CLI\",\"--table default.CustomerOnlyByYearWithCluster\"])"
   ]
  }
 ],
 "metadata": {
  "kernelspec": {
   "display_name": "Python 2",
   "language": "python",
   "name": "python2"
  },
  "language_info": {
   "codemirror_mode": {
    "name": "ipython",
    "version": 2
   },
   "file_extension": ".py",
   "mimetype": "text/x-python",
   "name": "python",
   "nbconvert_exporter": "python",
   "pygments_lexer": "ipython2",
   "version": "2.7.11"
  }
 },
 "nbformat": 4,
 "nbformat_minor": 0
}
